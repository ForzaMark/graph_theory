{
 "cells": [
  {
   "cell_type": "code",
   "execution_count": 1,
   "metadata": {},
   "outputs": [],
   "source": [
    "from synutility.SynIO.data_type import load_from_pickle\n",
    "import networkx as nx\n",
    "from math import isclose\n",
    "import time\n",
    "import numpy as np\n",
    "\n",
    "from create_partitions_by_invariant import create_partitions_by_invariant\n",
    "from cluster_reaction_centers import cluster_reaction_centers"
   ]
  },
  {
   "cell_type": "code",
   "execution_count": 2,
   "metadata": {},
   "outputs": [],
   "source": [
    "def aggregate_charge_and_element_attributes(reaction):\n",
    "    for node, attributes in reaction.nodes.data():\n",
    "        attributes[\"element_charge\"] = f\"{attributes['element']}{attributes['charge']}\"\n",
    "\n",
    "    return reaction\n",
    "\n",
    "data = load_from_pickle(\"C:/Users/Mark/Documents/graph_theory/ITS_graphs.pkl.gz\")\n",
    "reactions = [reaction[\"ITS\"] for reaction in data]\n",
    "reactions = [aggregate_charge_and_element_attributes(reaction) for reaction in reactions]"
   ]
  },
  {
   "cell_type": "code",
   "execution_count": 3,
   "metadata": {},
   "outputs": [],
   "source": [
    "def edge_count_invariant(reaction_center, partition_representant_reaction_center):\n",
    "    edge_count_reaction_center = len(reaction_center.edges)\n",
    "    edge_count_partition_representant = len(partition_representant_reaction_center.edges)\n",
    "\n",
    "    return edge_count_reaction_center == edge_count_partition_representant"
   ]
  },
  {
   "cell_type": "code",
   "execution_count": 4,
   "metadata": {},
   "outputs": [],
   "source": [
    "def vertex_count_invariant(reaction_center, partition_representant_reaction_center):\n",
    "    vertex_count_reaction_center = len(reaction_center.nodes)\n",
    "    vertex_count_partition_representant = len(partition_representant_reaction_center.nodes)\n",
    "\n",
    "    return vertex_count_reaction_center == vertex_count_partition_representant"
   ]
  },
  {
   "cell_type": "code",
   "execution_count": 5,
   "metadata": {},
   "outputs": [],
   "source": [
    "# TODO: check if this implementation for degree invariant is actually correct\n",
    "\n",
    "def vertex_degree_invariant(reaction_center, partition_representant_reaction_center):\n",
    "    reaction_center_degrees = sorted([degree for node, degree in list(reaction_center.degree)])\n",
    "    partition_representant_degrees = sorted([degree for node, degree in list(partition_representant_reaction_center.degree)])\n",
    "\n",
    "    return reaction_center_degrees == partition_representant_degrees"
   ]
  },
  {
   "cell_type": "code",
   "execution_count": 6,
   "metadata": {},
   "outputs": [],
   "source": [
    "def algebraic_connectivity_invariant(reaction_center, partition_representant_reaction_center):\n",
    "    algebraic_connectivity_reaction_center = nx.algebraic_connectivity(reaction_center)\n",
    "    algebraic_connectivity_partition_representant_reaction_center = nx.algebraic_connectivity(partition_representant_reaction_center)\n",
    "\n",
    "    return isclose(algebraic_connectivity_reaction_center, algebraic_connectivity_partition_representant_reaction_center, rel_tol=1e-6)"
   ]
  },
  {
   "cell_type": "code",
   "execution_count": 7,
   "metadata": {},
   "outputs": [],
   "source": [
    "def rank_invariant(reaction_center, partition_representant_reaction_center):\n",
    "    reaction_center_rank = float(np.linalg.matrix_rank(nx.to_pandas_adjacency(reaction_center).values))\n",
    "    partition_representant_rank = float(np.linalg.matrix_rank(nx.to_pandas_adjacency(partition_representant_reaction_center).values))\n",
    "\n",
    "    return isclose(reaction_center_rank, partition_representant_rank, rel_tol=1e-6)"
   ]
  },
  {
   "cell_type": "code",
   "execution_count": 8,
   "metadata": {},
   "outputs": [],
   "source": [
    "def weisfeiler_lehman_invariant(reaction_center, partition_representant_reaction_center):  \n",
    "    edge_attribute = 'order'\n",
    "    node_attribute = 'element_charge'\n",
    "\n",
    "    reaction_center_hash = nx.weisfeiler_lehman_graph_hash(reaction_center, edge_attr=edge_attribute, node_attr=node_attribute, iterations = 1)\n",
    "    partition_representant_hash = nx.weisfeiler_lehman_graph_hash(partition_representant_reaction_center, edge_attr=edge_attribute, node_attr=node_attribute, iterations = 1)\n",
    "\n",
    "    return reaction_center_hash == partition_representant_hash"
   ]
  },
  {
   "cell_type": "code",
   "execution_count": 9,
   "metadata": {},
   "outputs": [],
   "source": [
    "def av_length_invariant(reaction_center, partition_representant_reaction_center):\n",
    "    if nx.is_connected(reaction_center) and nx.is_connected(partition_representant_reaction_center):\n",
    "        avg_path_length_reaction_center = nx.average_shortest_path_length(reaction_center)\n",
    "        avg_path_length_partition_representant = nx.average_shortest_path_length(partition_representant_reaction_center)\n",
    "\n",
    "        return isclose(avg_path_length_reaction_center, avg_path_length_partition_representant, rel_tol=1e-6)\n",
    "    else:\n",
    "        return True"
   ]
  },
  {
   "cell_type": "code",
   "execution_count": null,
   "metadata": {},
   "outputs": [],
   "source": [
    "def graph_diameter_invariant(reaction_center, partition_representant_reaction_center):\n",
    "    if nx.is_connected(reaction_center) and nx.is_connected(partition_representant_reaction_center):\n",
    "        reaction_center_diameter = nx.diameter(reaction_center)\n",
    "        partition_representant_reaction_center_diameter = nx.diameter(partition_representant_reaction_center)\n",
    "\n",
    "        return reaction_center_diameter == partition_representant_reaction_center_diameter\n",
    "    else:\n",
    "        return True\n"
   ]
  },
  {
   "cell_type": "code",
   "execution_count": 10,
   "metadata": {},
   "outputs": [],
   "source": [
    "start_time = time.time()\n",
    "\n",
    "invariant_check_function = av_length_invariant\n",
    "pre_filtered_partitions = create_partitions_by_invariant(reactions, invariant_check_function)\n",
    "\n",
    "overall_partitions = []\n",
    "\n",
    "for pre_filtered_partition in pre_filtered_partitions:\n",
    "        partitions = cluster_reaction_centers(pre_filtered_partition)\n",
    "        overall_partitions = overall_partitions + partitions\n",
    "\n",
    "end_time = time.time()"
   ]
  },
  {
   "cell_type": "markdown",
   "metadata": {},
   "source": [
    "# Summary"
   ]
  },
  {
   "cell_type": "code",
   "execution_count": null,
   "metadata": {},
   "outputs": [],
   "source": [
    "elapsed_time = end_time - start_time\n",
    "\n",
    "print(f\"Time elapsed: {elapsed_time:.2f} seconds\")\n",
    "\n",
    "print(f\"Partitions found: {len(pre_filtered_partitions)}\")"
   ]
  },
  {
   "cell_type": "code",
   "execution_count": null,
   "metadata": {},
   "outputs": [],
   "source": [
    "from visualize_graph import visualize_graph\n",
    "\n",
    "current_partition = partitions[0]\n",
    "\n",
    "visualize_graph(current_partition[0], with_reaction_center=True)\n",
    "visualize_graph(current_partition[1], with_reaction_center=True)"
   ]
  },
  {
   "cell_type": "markdown",
   "metadata": {},
   "source": [
    "# multistage invariant partitioning / hierarchical clustering"
   ]
  },
  {
   "cell_type": "code",
   "execution_count": 40,
   "metadata": {},
   "outputs": [],
   "source": [
    "\"\"\" invariant_config = {\n",
    "    0: edge_count_invariant,\n",
    "    1: vertex_degree_invariant,\n",
    "    2: weisfeiler_lehman_invariant \n",
    "} \"\"\"\n",
    "\n",
    "\"\"\" invariant_config = {\n",
    "    0: rank_invariant,\n",
    "    1: vertex_count_invariant,\n",
    "    2: edge_count_invariant,\n",
    "    3: vertex_degree_invariant,\n",
    "    4: weisfeiler_lehman_invariant \n",
    "} \"\"\"\n",
    "\n",
    "\n",
    "\"\"\" invariant_config = {\n",
    "    0: vertex_count_invariant,\n",
    "    1: edge_count_invariant,\n",
    "    2: vertex_degree_invariant,\n",
    "    3: rank_invariant,\n",
    "    4: weisfeiler_lehman_invariant \n",
    "} \n",
    " \"\"\"\n",
    "\n",
    "invariant_config = {\n",
    "    0: edge_count_invariant,\n",
    "}"
   ]
  },
  {
   "cell_type": "code",
   "execution_count": null,
   "metadata": {},
   "outputs": [],
   "source": [
    "partitions = []\n",
    "\n",
    "start_time = time.time()\n",
    "\n",
    "for invariant_index in range(0, len(invariant_config.values())):\n",
    "    invariant_check_function = invariant_config[invariant_index]\n",
    "\n",
    "    if invariant_index == 0:\n",
    "        partitions = create_partitions_by_invariant(reactions, invariant_check_function)\n",
    "    else:\n",
    "         for index, partition in enumerate(partitions):\n",
    "            del partitions[index]\n",
    "            \n",
    "            sub_partitions = create_partitions_by_invariant(partition, invariant_check_function)\n",
    "\n",
    "            partitions = partitions + sub_partitions\n",
    "\n",
    "    print(f\"{invariant_index}'s partition length = {len(partitions)}\")\n",
    "\n",
    "overall_partitions = []\n",
    "\n",
    "for pre_filtered_partition in partitions:\n",
    "    p = cluster_reaction_centers(pre_filtered_partition)\n",
    "    overall_partitions = overall_partitions + p \n",
    "\n",
    "end_time = time.time()"
   ]
  },
  {
   "cell_type": "markdown",
   "metadata": {},
   "source": [
    "- After each prepartitioning the usual nx.isomorphism check must be executed\n",
    "- the goal is to optimally reduce the complete runtime by prepartitioning"
   ]
  },
  {
   "cell_type": "code",
   "execution_count": null,
   "metadata": {},
   "outputs": [],
   "source": [
    "elapsed_time = end_time - start_time\n",
    "\n",
    "print(f\"Time elapsed: {elapsed_time:.2f} seconds\")\n",
    "\n",
    "print(f\"Partitions via invariants found: {len(partitions)}\")\n",
    "print(f\"Partitions finally found: {len(overall_partitions)}\")"
   ]
  },
  {
   "cell_type": "code",
   "execution_count": 15,
   "metadata": {},
   "outputs": [],
   "source": [
    "number_of_elements_per_cluster = [(index, len(p)) for index, p in enumerate(partitions)]"
   ]
  },
  {
   "cell_type": "code",
   "execution_count": null,
   "metadata": {},
   "outputs": [],
   "source": [
    "import matplotlib.pyplot as plt\n",
    "import numpy as np\n",
    "\n",
    "data = number_of_elements_per_cluster\n",
    "sorted_data = sorted(data, key=lambda x: x[1])\n",
    "\n",
    "original_indices_sorted, values_sorted = zip(*sorted_data)\n",
    "\n",
    "plt.figure(figsize=(32, 20))\n",
    "plt.bar(range(len(values_sorted)), values_sorted, tick_label=original_indices_sorted, color='lightgreen', edgecolor='black')\n",
    "plt.xlabel('Original Index', fontsize=12)\n",
    "plt.ylabel('Value', fontsize=12)\n",
    "plt.title('Barplot with Values Sorted but Original Indices Shown', fontsize=14)\n",
    "plt.grid(axis='y', linestyle='--', alpha=0.7)\n",
    "plt.show()\n"
   ]
  },
  {
   "cell_type": "code",
   "execution_count": null,
   "metadata": {},
   "outputs": [],
   "source": [
    "one_element_partitions = [p for p in number_of_elements_per_cluster if p[1] < 2]\n",
    "\n",
    "len(one_element_partitions)\n",
    "\n",
    "one_element_partitions[0]\n"
   ]
  },
  {
   "cell_type": "code",
   "execution_count": null,
   "metadata": {},
   "outputs": [],
   "source": [
    "example_graph = partitions[one_element_partitions[7][0]][0]\n",
    "\n",
    "visualize_graph(example_graph, with_reaction_center=True)"
   ]
  },
  {
   "cell_type": "code",
   "execution_count": null,
   "metadata": {},
   "outputs": [],
   "source": [
    "two_element_partitions = [p for p in number_of_elements_per_cluster if p[1] == 2]\n",
    "\n",
    "len(two_element_partitions)\n",
    "\n",
    "two_element_partitions\n",
    "\n",
    "example_graphs = partitions[two_element_partitions[0][0]]\n",
    "\n",
    "visualize_graph(example_graphs[0], with_reaction_center=True)\n",
    "visualize_graph(example_graphs[1], with_reaction_center=True)\n"
   ]
  },
  {
   "cell_type": "code",
   "execution_count": null,
   "metadata": {},
   "outputs": [],
   "source": [
    "from itertools import combinations\n",
    "from invariants import edge_count_invariant, vertex_count_invariant, rank_invariant, vertex_degree_invariant, global_clustering_invariant, av_length_invariant, graph_diameter_invariant, graph_girth_invariant\n",
    "\n",
    "\n",
    "fns = [\n",
    "    edge_count_invariant, \n",
    "    vertex_count_invariant,\n",
    "    vertex_degree_invariant,\n",
    "    rank_invariant,\n",
    "    global_clustering_invariant,\n",
    "    av_length_invariant,\n",
    "    graph_diameter_invariant,\n",
    "    graph_girth_invariant\n",
    "]\n",
    "\n",
    "# Generate all unique pairwise tuples\n",
    "pairwise_tuples = list(combinations(fns, 2))\n",
    "\n",
    "x = [{0: one, 1: two, 2: weisfeiler_lehman_invariant} for one, two in pairwise_tuples]\n"
   ]
  },
  {
   "cell_type": "code",
   "execution_count": 3,
   "metadata": {},
   "outputs": [],
   "source": [
    "from own_weisfeiler_leman import weisfeiler_leman_one_iteration, hash_distribution_has_changed\n",
    "\n",
    "def own_weisfeiler_leman_invariant(reaction_center, partition_representant_reaction_center):\n",
    "    reaction_center_wl = weisfeiler_leman_one_iteration(reaction_center)[\"hash\"]\n",
    "    representant_center_wl = weisfeiler_leman_one_iteration(partition_representant_reaction_center)[\"hash\"]\n",
    "\n",
    "    return not hash_distribution_has_changed(reaction_center_wl, representant_center_wl)"
   ]
  },
  {
   "cell_type": "code",
   "execution_count": null,
   "metadata": {},
   "outputs": [],
   "source": [
    "import time\n",
    "from create_partitions_by_invariant import create_partitions_by_invariant\n",
    "from cluster_reaction_centers import cluster_reaction_centers\n",
    "from synutility.SynIO.data_type import load_from_pickle\n",
    "from invariant_combinations import invariant_combinations\n",
    "import random\n",
    "\n",
    "from own_weisfeiler_leman import weisfeiler_leman_one_iteration, hash_distribution_has_changed\n",
    "\n",
    "\n",
    "invariant_combinations = [\n",
    "    {\n",
    "        0: own_weisfeiler_leman_invariant\n",
    "    },\n",
    "]\n",
    "\n",
    "def aggregate_charge_and_element_attributes(reaction):\n",
    "    for node, attributes in reaction.nodes.data():\n",
    "        attributes[\"element_charge\"] = f\"{attributes['element']}{attributes['charge']}\"\n",
    "\n",
    "    return reaction\n",
    "\n",
    "def load_reactions():\n",
    "    data = load_from_pickle(\"C:/Users/Mark/Documents/graph_theory/ITS_graphs.pkl.gz\")\n",
    "    reactions = [reaction[\"ITS\"] for reaction in data]\n",
    "    reactions = [aggregate_charge_and_element_attributes(reaction) for reaction in reactions]\n",
    "\n",
    "    return reactions\n",
    "\n",
    "if __name__ == \"__main__\":\n",
    "    reactions = load_reactions()\n",
    "    partitions = []\n",
    "\n",
    "    for invariant_config_index, invariant_config in enumerate(invariant_combinations):\n",
    "\n",
    "        complete_start_time = time.time()\n",
    "\n",
    "        for invariant_index in range(0, len(invariant_config.values())):\n",
    "            invariant_check_function = invariant_config[invariant_index]\n",
    "\n",
    "            start_invariant = time.time()\n",
    "\n",
    "            start_partition_assign = None\n",
    "            end_partition_assign = None\n",
    "\n",
    "            if invariant_index == 0:\n",
    "                partitions = create_partitions_by_invariant(reactions, invariant_check_function)\n",
    "            else:\n",
    "                all_sub_partitions = []\n",
    "                for index, partition in enumerate(partitions):\n",
    "                    sub_partitions = create_partitions_by_invariant(partition, invariant_check_function)\n",
    "\n",
    "                    all_sub_partitions = all_sub_partitions + sub_partitions\n",
    "\n",
    "                partitions = all_sub_partitions\n",
    "\n",
    "            end_invariant = time.time()\n",
    "            \n",
    "            print(f\"{invariant_index}'s partition length = {len(partitions)}\")\n",
    "            print(f\"{invariant_index}'s time = {(end_invariant - start_invariant):.2f}\")\n",
    "            \n",
    "        pre_filtering_end_time = time.time()\n",
    "        overall_partitions = []\n",
    "\n",
    "        for pre_filtered_partition in partitions:\n",
    "            p = cluster_reaction_centers(pre_filtered_partition)\n",
    "            overall_partitions = overall_partitions + p \n",
    "\n",
    "        complete_end_time = time.time()\n",
    "\n",
    "        complete_elapsed_time = complete_end_time - complete_start_time\n",
    "        prefiltering_elapsed_time = pre_filtering_end_time - complete_start_time\n",
    "        print(f\"###Invariant Config ###\")\n",
    "        print(invariant_config)\n",
    "\n",
    "        print(f\"Time elapsed pre: {prefiltering_elapsed_time:.2f} seconds\")\n",
    "        print(f\"Time elapsed complete: {complete_elapsed_time:.2f} seconds\")\n",
    "\n",
    "        print(f\"Partitions via invariants found: {len(partitions)}\")\n",
    "        print(f\"Partitions finally found: {len(overall_partitions)}\")\n",
    "        print(\"#########################################\")"
   ]
  },
  {
   "cell_type": "code",
   "execution_count": 4,
   "metadata": {},
   "outputs": [
    {
     "data": {
      "text/plain": [
       "101"
      ]
     },
     "execution_count": 4,
     "metadata": {},
     "output_type": "execute_result"
    }
   ],
   "source": [
    "clustered_partitions = cluster_reaction_centers(reactions[:1000])\n",
    "len(clustered_partitions)"
   ]
  },
  {
   "cell_type": "code",
   "execution_count": 5,
   "metadata": {},
   "outputs": [],
   "source": [
    "for index, partition in enumerate(clustered_partitions):\n",
    "    sub_partitions = create_partitions_by_invariant(partition, own_weisfeiler_leman_invariant)\n",
    "\n",
    "    if len(sub_partitions) != 1:\n",
    "        divergent_partition = sub_partitions\n",
    "\n"
   ]
  },
  {
   "cell_type": "code",
   "execution_count": 7,
   "metadata": {},
   "outputs": [
    {
     "data": {
      "text/plain": [
       "(14, <networkx.classes.graph.Graph at 0x20995e5a810>)"
      ]
     },
     "execution_count": 7,
     "metadata": {},
     "output_type": "execute_result"
    }
   ],
   "source": [
    "from visualize_graph import visualize_graph\n",
    "\n",
    "divergent_partition[0][0]"
   ]
  },
  {
   "cell_type": "code",
   "execution_count": 8,
   "metadata": {},
   "outputs": [
    {
     "data": {
      "text/plain": [
       "(540, <networkx.classes.graph.Graph at 0x20997b82710>)"
      ]
     },
     "execution_count": 8,
     "metadata": {},
     "output_type": "execute_result"
    }
   ],
   "source": [
    "\n",
    "\n",
    "divergent_partition[1][0]\n"
   ]
  },
  {
   "cell_type": "code",
   "execution_count": 11,
   "metadata": {},
   "outputs": [
    {
     "data": {
      "image/png": "[encoded data removed]",
      "text/plain": [
       "<Figure size 2500x2000 with 2 Axes>"
      ]
     },
     "metadata": {},
     "output_type": "display_data"
    }
   ],
   "source": [
    "from get_reaction_center import get_reaction_center\n",
    "\n",
    "rc1 = get_reaction_center(reactions[14])\n",
    "rc2 = get_reaction_center(reactions[540])"
   ]
  }
 ],
 "metadata": {
  "kernelspec": {
   "display_name": "synutils-env",
   "language": "python",
   "name": "python3"
  },
  "language_info": {
   "codemirror_mode": {
    "name": "ipython",
    "version": 3
   },
   "file_extension": ".py",
   "mimetype": "text/x-python",
   "name": "python",
   "nbconvert_exporter": "python",
   "pygments_lexer": "ipython3",
   "version": "3.11.11"
  }
 },
 "nbformat": 4,
 "nbformat_minor": 2
}
