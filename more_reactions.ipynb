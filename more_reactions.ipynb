{
 "cells": [
  {
   "cell_type": "code",
   "execution_count": 1,
   "metadata": {},
   "outputs": [],
   "source": [
    "import time\n",
    "from create_partitions_by_invariant import create_partitions_by_invariant\n",
    "from cluster_reaction_centers import cluster_reaction_centers\n",
    "from invariant_combinations import invariant_combinations\n",
    "from util import load_reactions\n",
    "from invariants import own_weisfeiler_leman_convergence_invariant, own_weisfeiler_leman_one_iteration_invariant\n",
    "import json\n",
    "import random"
   ]
  },
  {
   "cell_type": "code",
   "execution_count": 2,
   "metadata": {},
   "outputs": [],
   "source": [
    "from util import load_reactions\n",
    "\n",
    "reactions = load_reactions(path=\"C:/Users/Mark/Documents/graph_theory/ITS_largerdataset.pkl.gz\")"
   ]
  },
  {
   "cell_type": "code",
   "execution_count": 5,
   "metadata": {},
   "outputs": [],
   "source": [
    "def wp3(reactions, invariant_config):\n",
    "    partitions = []\n",
    "    partition_development = []\n",
    "\n",
    "    complete_start_time = time.time()\n",
    "\n",
    "    for invariant_index in range(0, len(invariant_config.values())):\n",
    "        invariant_start_time = time.time()\n",
    "        invariant_check_function = invariant_config[invariant_index]\n",
    "\n",
    "        if invariant_index == 0:\n",
    "            partitions = create_partitions_by_invariant(reactions, invariant_check_function)\n",
    "        else:\n",
    "            all_sub_partitions = []\n",
    "            for partition in partitions:\n",
    "                sub_partitions = create_partitions_by_invariant(partition, invariant_check_function)\n",
    "\n",
    "                all_sub_partitions = all_sub_partitions + sub_partitions\n",
    "\n",
    "            partitions = all_sub_partitions\n",
    "        invariant_end_time = time.time()\n",
    "        print(f\"Partitions found {len(partitions)} in {invariant_end_time - invariant_start_time} sec\" )\n",
    "\n",
    "\n",
    "\n",
    "        \n",
    "        partition_development.append({'number_of_partitions': len(partitions), 'time_elapsed_by_this_invariant': invariant_end_time - invariant_start_time})\n",
    "    \n",
    "    pre_filtering_end_time = time.time()\n",
    "    overall_partitions = []\n",
    "\n",
    "    for pre_filtered_partition in partitions:\n",
    "        p = cluster_reaction_centers(pre_filtered_partition)\n",
    "        overall_partitions = overall_partitions + p \n",
    "\n",
    "    complete_end_time = time.time()\n",
    "\n",
    "    complete_elapsed_time = complete_end_time - complete_start_time\n",
    "    prefiltering_elapsed_time = pre_filtering_end_time - complete_start_time\n",
    "\n",
    "    return {\n",
    "        \"invariant_config\": [(key, value.__name__) for key, value in invariant_config.items()],\n",
    "        \"partition_development\": partition_development,\n",
    "        \"prefiltering_elapsed_time\": prefiltering_elapsed_time,\n",
    "        \"complete_elapsed_time\": complete_elapsed_time,\n",
    "        \"partitions_found\": len(overall_partitions)\n",
    "    }\n"
   ]
  },
  {
   "cell_type": "code",
   "execution_count": 11,
   "metadata": {},
   "outputs": [
    {
     "name": "stdout",
     "output_type": "stream",
     "text": [
      "Partitions found 18 in 319.08966732025146 sec\n",
      "Partitions found 85 in 453.4054367542267 sec\n",
      "Partitions found 634 in 1613.7072546482086 sec\n"
     ]
    }
   ],
   "source": [
    "from invariants import edge_count_invariant, av_length_invariant, rank_invariant, vertex_count_invariant, labeled_vertex_invariant, vertex_degree_invariant, weisfeiler_leman_one_iteration\n",
    "\n",
    "\n",
    "\n",
    "invariant_config = {\n",
    "    0: edge_count_invariant,\n",
    "    1: av_length_invariant,\n",
    "    2: own_weisfeiler_leman_one_iteration_invariant\n",
    "}\n",
    "\n",
    "result = wp3(reactions, invariant_config)"
   ]
  },
  {
   "cell_type": "code",
   "execution_count": 10,
   "metadata": {},
   "outputs": [
    {
     "data": {
      "text/plain": [
       "{'invariant_config': [(0, 'edge_count_invariant'),\n",
       "  (1, 'labeled_vertex_invariant'),\n",
       "  (2, 'rank_invariant'),\n",
       "  (3, 'own_weisfeiler_leman_one_iteration_invariant')],\n",
       " 'partition_development': [{'number_of_partitions': 18,\n",
       "   'time_elapsed_by_this_invariant': 327.4632239341736},\n",
       "  {'number_of_partitions': 606,\n",
       "   'time_elapsed_by_this_invariant': 855.2205219268799},\n",
       "  {'number_of_partitions': 626,\n",
       "   'time_elapsed_by_this_invariant': 792.2290825843811},\n",
       "  {'number_of_partitions': 634,\n",
       "   'time_elapsed_by_this_invariant': 203.68345713615417}],\n",
       " 'prefiltering_elapsed_time': 2178.597285270691,\n",
       " 'complete_elapsed_time': 3221.4902291297913,\n",
       " 'partitions_found': 754}"
      ]
     },
     "execution_count": 10,
     "metadata": {},
     "output_type": "execute_result"
    }
   ],
   "source": [
    "result"
   ]
  }
 ],
 "metadata": {
  "kernelspec": {
   "display_name": "synutils-env",
   "language": "python",
   "name": "python3"
  },
  "language_info": {
   "codemirror_mode": {
    "name": "ipython",
    "version": 3
   },
   "file_extension": ".py",
   "mimetype": "text/x-python",
   "name": "python",
   "nbconvert_exporter": "python",
   "pygments_lexer": "ipython3",
   "version": "3.11.11"
  }
 },
 "nbformat": 4,
 "nbformat_minor": 2
}
