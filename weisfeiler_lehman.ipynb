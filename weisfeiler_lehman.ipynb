{
 "cells": [
  {
   "cell_type": "code",
   "execution_count": 1,
   "metadata": {},
   "outputs": [],
   "source": [
    "from synutility.SynIO.data_type import load_from_pickle\n",
    "import networkx as nx\n",
    "from math import isclose\n",
    "import time\n",
    "import numpy as np\n",
    "\n",
    "from create_partitions_by_invariant import create_partitions_by_invariant\n",
    "from cluster_reaction_centers import cluster_reaction_centers"
   ]
  },
  {
   "cell_type": "code",
   "execution_count": 2,
   "metadata": {},
   "outputs": [],
   "source": [
    "def aggregate_charge_and_element_attributes(reaction):\n",
    "    for node, attributes in reaction.nodes.data():\n",
    "        attributes[\"element_charge\"] = f\"{attributes['element']}{attributes['charge']}\"\n",
    "\n",
    "    return reaction\n",
    "\n",
    "data = load_from_pickle(\"/home/mark/Documents/graph_theory/ITS_graphs.pkl.gz\")\n",
    "reactions = [reaction[\"ITS\"] for reaction in data]\n",
    "reactions = [aggregate_charge_and_element_attributes(reaction) for reaction in reactions]"
   ]
  },
  {
   "cell_type": "code",
   "execution_count": 3,
   "metadata": {},
   "outputs": [],
   "source": [
    "partitions = cluster_reaction_centers(reactions)"
   ]
  },
  {
   "cell_type": "code",
   "execution_count": null,
   "metadata": {},
   "outputs": [],
   "source": [
    "from visualize_graph import visualize_graph\n",
    "\n",
    "visualize_graph(partitions[0][0])\n",
    "visualize_graph(partitions[0][1])"
   ]
  },
  {
   "cell_type": "code",
   "execution_count": null,
   "metadata": {},
   "outputs": [],
   "source": [
    "from get_reaction_center import get_reaction_center\n",
    "\n",
    "reaction_center1 = get_reaction_center(partitions[0][0])\n",
    "reaction_center2 = get_reaction_center(partitions[0][1])\n",
    "\n",
    "visualize_graph(reaction_center1)\n",
    "visualize_graph(reaction_center2)"
   ]
  },
  {
   "cell_type": "code",
   "execution_count": 30,
   "metadata": {},
   "outputs": [
    {
     "name": "stdout",
     "output_type": "stream",
     "text": [
      "initial c {34: 1, 23: 1, 30: 1, 31: 1}\n",
      "{34: -3234743061493032375, 23: -3234743061493032375, 30: -3234743061493032375, 31: -3234743061493032375}\n"
     ]
    }
   ],
   "source": [
    "reaction_center = reaction_center2\n",
    "\n",
    "c = {}\n",
    "\n",
    "for node_label in reaction_center.nodes:\n",
    "    c = {\n",
    "        **c,\n",
    "        node_label: 1\n",
    "    }\n",
    "\n",
    "l = {}\n",
    "\n",
    "for iteration in range(1, 3):\n",
    "    for node_label in reaction_center.nodes:\n",
    "        neighbours = reaction_center.neighbors(node_label)\n",
    "        l = {\n",
    "            **l,\n",
    "            node_label: (c[node_label], [c[neighbour_label] for neighbour_label in reaction_center.neighbors(node_label)])\n",
    "        }\n",
    "\n",
    "    c_new = {}\n",
    "    for key, value in c.items():\n",
    "        l1, l2 = l[key]\n",
    "        h = hash((l1, tuple(l2)))\n",
    "        c_new = {\n",
    "            **c_new,\n",
    "            key: h\n",
    "        }\n",
    "    \n",
    "    c = c_new\n",
    "\n",
    "print(c_new)"
   ]
  },
  {
   "cell_type": "code",
   "execution_count": 29,
   "metadata": {},
   "outputs": [
    {
     "data": {
      "text/plain": [
       "{35: -3234743061493032375,\n",
       " 11: -3234743061493032375,\n",
       " 28: -3234743061493032375,\n",
       " 29: -3234743061493032375}"
      ]
     },
     "execution_count": 29,
     "metadata": {},
     "output_type": "execute_result"
    }
   ],
   "source": [
    "keep = c_new\n",
    "\n",
    "keep"
   ]
  }
 ],
 "metadata": {
  "kernelspec": {
   "display_name": "synutils-env",
   "language": "python",
   "name": "python3"
  },
  "language_info": {
   "codemirror_mode": {
    "name": "ipython",
    "version": 3
   },
   "file_extension": ".py",
   "mimetype": "text/x-python",
   "name": "python",
   "nbconvert_exporter": "python",
   "pygments_lexer": "ipython3",
   "version": "3.11.11"
  }
 },
 "nbformat": 4,
 "nbformat_minor": 2
}
